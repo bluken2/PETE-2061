{
 "cells": [
  {
   "cell_type": "markdown",
   "metadata": {
    "colab_type": "text",
    "id": "u1YDPNtbdHDj"
   },
   "source": [
    "# Probability Distribution\n",
    "\n",
    "## PETE 2061 Lab 6 Workbook \n",
    "\n",
    "## THIS LAB IS DUE BY 10:20 am!!\n",
    "\n",
    "<a id='top'></a>"
   ]
  },
  {
   "cell_type": "markdown",
   "metadata": {
    "colab_type": "text",
    "id": "krWd44XodHDp"
   },
   "source": [
    "<a id='variables'></a>\n",
    "## Volumetric Reserves Estimation\n",
    "The Stock-tank Oil Initially In Place (STOIIP) is the amount of oil that is stored in an oil reservoir. Assuming that the pore spaces in the reservoir are filled with water and oil only, the STOIIP can be estimated using the formula:<br><br>\n",
    "$STOIIP = 7758 Ah\\phi(1-S_{wi})/B_{oi}$ <br><br>\n",
    "where $A$ is the area of the reservoir in acres, <br>\n",
    "$h$ is the reservoir thickness in feet (ft), <br>\n",
    "$S_{wi}$ is the initial water saturation of the reservoir. It is the ratio of the volume of water initially in the reservoir to the total pore volume in the reservoir. It can either be expressed as a fraction or percentage. <br>\n",
    "$B_{oi}$ is the initial oil formation volume factor. It is the ratio of the volume of oil at reservoir conditions (measured in units of reservoir barrels, rb) to the volume of oil at standard conditions (measured in units of stock tank barrels, stb). This means that the unit of $B_{oi}$ is $\\frac{rb}{stb}$ <br>\n",
    "$\\phi$ is the porosity of the reservoir. It is the ratio of the pore volume to the bulk volume, and can be expressed as a fraction or in percentage.<br>\n",
    "7758 is the conversion factor from acre-ft to barrels (bbl or rb) <br><br>\n",
    "\n",
    "All the variables are assumed to be normally distributed with the mean and standard deviation given using the nomenclaturre (mean, std) below:<br>\n",
    "A = (mean=250,std=30)  $\\hspace{22pt}$ # in acres (store this value in a variable called \"area\")<br>\n",
    "h = (50,10) $\\hspace{27pt}$ # in feet (store this value in a variable called \"h\") <br>\n",
    "$\\phi$ = (0.33,0.1) $\\hspace{19pt}$ # fraction (store this value in a variable called \"poro\")<br>\n",
    "$S_{wi}$ = (0.25,0.07) $\\hspace{15pt}$ # fraction (store this value in a variable called \"s_wi\")<br>\n",
    "$B_{oi}$ = (1.1,0.07) $\\hspace{19pt}$ # rb/stb (store this value in a variable called \"b_oi\")<br>"
   ]
  },
  {
   "cell_type": "markdown",
   "metadata": {},
   "source": [
    "1. Using only the mean values given above, write a Python code that calculates and stores the STOIIP value into a variable named \"stoiip\", and then prints this STOIIP value and unit using a formatted print statement."
   ]
  },
  {
   "cell_type": "code",
   "execution_count": 5,
   "metadata": {},
   "outputs": [
    {
     "name": "stdout",
     "output_type": "stream",
     "text": [
      "STOIIP = 21819375.0 bbls\n"
     ]
    }
   ],
   "source": [
    "Am,hm,porom,s_wim,b_oim=250,50,0.33,0.25,1.1\n",
    "stoiip=(7758*Am*hm*porom*((1-s_wim)/b_oim))\n",
    "print(f\"STOIIP = {stoiip} bbls\")"
   ]
  },
  {
   "cell_type": "markdown",
   "metadata": {},
   "source": [
    "2. Import the numpy, pandas and matplotlit.pyplot libraries"
   ]
  },
  {
   "cell_type": "code",
   "execution_count": 10,
   "metadata": {},
   "outputs": [],
   "source": [
    "import numpy as np\n",
    "import pandas as pd\n",
    "import matplotlib.pyplot as plt"
   ]
  },
  {
   "cell_type": "markdown",
   "metadata": {},
   "source": [
    "3. Create a variable named nSamples, and assign it to 10000. <br>\n",
    "4. Using the given mean and std values, generate \"nSamples\" of area, h, poro, s_wi and b_oi. These should all be normally-distributed. Use the appropriate function from np.random library<br>\n",
    "HINT: It is wise to start out by first setting nSamples to 10 and printing out your computations to be sure everything is working as expected. You should then set it to 10000 when you are convinced everything is working as expected."
   ]
  },
  {
   "cell_type": "code",
   "execution_count": 28,
   "metadata": {},
   "outputs": [],
   "source": [
    "nSamples=10000;\n",
    "Am,Astd=250,30\n",
    "hm,hstd=50,10\n",
    "porom,porostd=0.33,0.1\n",
    "s_wim,s_wistd=0.25,0.07\n",
    "b_oim,b_oistd=1.1,0.07\n",
    "area=Astd*np.random.randn(nSamples)+Am\n",
    "height=hstd*np.random.randn(nSamples)+hm\n",
    "poro=porostd*np.random.randn(nSamples)+porom\n",
    "s_wi=s_wistd*np.random.randn(nSamples)+s_wim\n",
    "b_oi=b_oistd*np.random.randn(nSamples)+b_oim"
   ]
  },
  {
   "cell_type": "markdown",
   "metadata": {},
   "source": [
    "5. Compute the stoiip values corresponding to the nSamples for all the variables computed in 4 above.<br>\n",
    "Hint: Note that all the input variables from (4) above are numpy arrays. So, you should vectorize the calculations, by writing just one line of code to compute the STOIIP. <br>\n",
    "Do not use a for loop. It is slow compared to vectorization.<br>\n",
    "**For 10 points of extra-credit you can use a for loop and time both approaches, then report the the percentage speed-up, but this should be done only after you have completed all the steps in this lab workbook.**"
   ]
  },
  {
   "cell_type": "code",
   "execution_count": 29,
   "metadata": {},
   "outputs": [],
   "source": [
    "stoiipv=(7758*area*height*poro*((1-s_wi)/b_oi))"
   ]
  },
  {
   "cell_type": "markdown",
   "metadata": {},
   "source": [
    "6. Store the results in a pandas DataFrame with a column name \"STOIIP\". Display the first five rows of the stoiip using the .head() function of the pandas DataFrame object."
   ]
  },
  {
   "cell_type": "code",
   "execution_count": 30,
   "metadata": {},
   "outputs": [
    {
     "data": {
      "text/html": [
       "<div>\n",
       "<style scoped>\n",
       "    .dataframe tbody tr th:only-of-type {\n",
       "        vertical-align: middle;\n",
       "    }\n",
       "\n",
       "    .dataframe tbody tr th {\n",
       "        vertical-align: top;\n",
       "    }\n",
       "\n",
       "    .dataframe thead th {\n",
       "        text-align: right;\n",
       "    }\n",
       "</style>\n",
       "<table border=\"1\" class=\"dataframe\">\n",
       "  <thead>\n",
       "    <tr style=\"text-align: right;\">\n",
       "      <th></th>\n",
       "      <th>STOIIP</th>\n",
       "    </tr>\n",
       "  </thead>\n",
       "  <tbody>\n",
       "    <tr>\n",
       "      <th>0</th>\n",
       "      <td>2.444664e+07</td>\n",
       "    </tr>\n",
       "    <tr>\n",
       "      <th>1</th>\n",
       "      <td>2.684753e+07</td>\n",
       "    </tr>\n",
       "    <tr>\n",
       "      <th>2</th>\n",
       "      <td>2.249742e+07</td>\n",
       "    </tr>\n",
       "    <tr>\n",
       "      <th>3</th>\n",
       "      <td>1.070277e+07</td>\n",
       "    </tr>\n",
       "    <tr>\n",
       "      <th>4</th>\n",
       "      <td>2.062268e+07</td>\n",
       "    </tr>\n",
       "  </tbody>\n",
       "</table>\n",
       "</div>"
      ],
      "text/plain": [
       "         STOIIP\n",
       "0  2.444664e+07\n",
       "1  2.684753e+07\n",
       "2  2.249742e+07\n",
       "3  1.070277e+07\n",
       "4  2.062268e+07"
      ]
     },
     "execution_count": 30,
     "metadata": {},
     "output_type": "execute_result"
    }
   ],
   "source": [
    "dataf=pd.DataFrame({'STOIIP':stoiipv})\n",
    "dataf.head()"
   ]
  },
  {
   "cell_type": "markdown",
   "metadata": {},
   "source": [
    "7. Plot the probability density function (pdf) of these 10,000 values of STOIIP"
   ]
  },
  {
   "cell_type": "code",
   "execution_count": 31,
   "metadata": {},
   "outputs": [
    {
     "data": {
      "text/plain": [
       "<matplotlib.axes._subplots.AxesSubplot at 0x2061ef961d0>"
      ]
     },
     "execution_count": 31,
     "metadata": {},
     "output_type": "execute_result"
    },
    {
     "data": {
      "image/png": "[encoded data removed]",
      "text/plain": [
       "<Figure size 432x288 with 1 Axes>"
      ]
     },
     "metadata": {
      "needs_background": "light"
     },
     "output_type": "display_data"
    }
   ],
   "source": [
    "dataf['STOIIP'].plot(kind='hist',histtype='step',bins=100,density=True)"
   ]
  },
  {
   "cell_type": "markdown",
   "metadata": {},
   "source": [
    "8. Plot the cumulative distribution function (cdf) of these 10,000 values of STOIIP <br>\n",
    "9. On this cdf plot, use vertical lines to show the $P_10$, $P_50$, and $P_90$ values of the STOIIP."
   ]
  },
  {
   "cell_type": "code",
   "execution_count": 32,
   "metadata": {},
   "outputs": [
    {
     "data": {
      "text/plain": [
       "<matplotlib.axes._subplots.AxesSubplot at 0x2061eff4160>"
      ]
     },
     "execution_count": 32,
     "metadata": {},
     "output_type": "execute_result"
    },
    {
     "data": {
      "image/png": "[encoded data removed]",
      "text/plain": [
       "<Figure size 432x288 with 1 Axes>"
      ]
     },
     "metadata": {
      "needs_background": "light"
     },
     "output_type": "display_data"
    }
   ],
   "source": [
    "dataf['STOIIP'].plot(kind='hist',histtype='step',bins=100,density=True,cumulative=True)"
   ]
  },
  {
   "cell_type": "markdown",
   "metadata": {},
   "source": [
    "10. In one line display the 10th, 50th and 90th percentiles of the STOIIP values. <br>\n",
    "Hint: use the quantile function, and pass in a list of the percentiles as a fraction \n",
    "11. In a new markdown cell, type out what the P10, P50 and P90 estimates of the STOIIP are"
   ]
  },
  {
   "cell_type": "code",
   "execution_count": 34,
   "metadata": {},
   "outputs": [
    {
     "data": {
      "text/html": [
       "<div>\n",
       "<style scoped>\n",
       "    .dataframe tbody tr th:only-of-type {\n",
       "        vertical-align: middle;\n",
       "    }\n",
       "\n",
       "    .dataframe tbody tr th {\n",
       "        vertical-align: top;\n",
       "    }\n",
       "\n",
       "    .dataframe thead th {\n",
       "        text-align: right;\n",
       "    }\n",
       "</style>\n",
       "<table border=\"1\" class=\"dataframe\">\n",
       "  <thead>\n",
       "    <tr style=\"text-align: right;\">\n",
       "      <th></th>\n",
       "      <th>STOIIP</th>\n",
       "    </tr>\n",
       "  </thead>\n",
       "  <tbody>\n",
       "    <tr>\n",
       "      <th>0.1</th>\n",
       "      <td>1.160258e+07</td>\n",
       "    </tr>\n",
       "    <tr>\n",
       "      <th>0.5</th>\n",
       "      <td>2.089517e+07</td>\n",
       "    </tr>\n",
       "    <tr>\n",
       "      <th>0.9</th>\n",
       "      <td>3.377741e+07</td>\n",
       "    </tr>\n",
       "  </tbody>\n",
       "</table>\n",
       "</div>"
      ],
      "text/plain": [
       "           STOIIP\n",
       "0.1  1.160258e+07\n",
       "0.5  2.089517e+07\n",
       "0.9  3.377741e+07"
      ]
     },
     "execution_count": 34,
     "metadata": {},
     "output_type": "execute_result"
    }
   ],
   "source": [
    "dataf.quantile([0.1,0.5,0.9])"
   ]
  },
  {
   "cell_type": "markdown",
   "metadata": {},
   "source": [
    "P10=1.160258e+07  P50=2.089517e+07  P90=3.377741e+07"
   ]
  }
 ],
 "metadata": {
  "colab": {
   "collapsed_sections": [
    "sYQs3O-6dHFb",
    "8sIJ4A57dHFk",
    "_73RPOcBdHFn",
    "h9s2tfPcdHFo",
    "zt4YHVYPdHGR"
   ],
   "include_colab_link": true,
   "name": "Copy of intro-python-colab.ipynb",
   "provenance": [],
   "version": "0.3.2"
  },
  "kernelspec": {
   "display_name": "Python 3",
   "language": "python",
   "name": "python3"
  },
  "language_info": {
   "codemirror_mode": {
    "name": "ipython",
    "version": 3
   },
   "file_extension": ".py",
   "mimetype": "text/x-python",
   "name": "python",
   "nbconvert_exporter": "python",
   "pygments_lexer": "ipython3",
   "version": "3.7.3"
  }
 },
 "nbformat": 4,
 "nbformat_minor": 1
}
