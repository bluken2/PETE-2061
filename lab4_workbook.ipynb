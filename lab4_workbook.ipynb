{
 "cells": [
  {
   "cell_type": "markdown",
   "metadata": {
    "colab_type": "text",
    "id": "u1YDPNtbdHDj"
   },
   "source": [
    "# Control Structures and Data Frames\n",
    "\n",
    "## PETE 2061 Lab 4 Workbook \n",
    "\n",
    "## THIS IS DUE BY 11:59 PM ON SUNDAY (Sept 22, 2019)\n",
    "\n",
    "<a id='top'></a>"
   ]
  },
  {
   "cell_type": "markdown",
   "metadata": {},
   "source": [
    "1. Paste the url (or link) to the pete2061 folder in your github account in the \"marked down\" cell below. <br>"
   ]
  },
  {
   "cell_type": "markdown",
   "metadata": {},
   "source": [
    "https://github.com/bluken2/PETE-2061"
   ]
  },
  {
   "cell_type": "markdown",
   "metadata": {},
   "source": [
    "2. It is commonly said that one human year is equivalent to 7 dog years. However, this simple conversion fails to recognize that dogs reach adulthood in approximately two years. As a result, some people believe that it is better to count each of the first two human years as 10.5 dog years, and then count each additional human year as 4 dog\n",
    "years. <br>\n",
    "Write a program that implements the conversion from human years to dog years described in the previous paragraph. Ensure that your program works correctly for conversions of less than two human years and for conversions of two or more human years. Your program should generate a random number between 0 and 10. <br>\n",
    "Hints: <br>\n",
    "a. Remember that you can generate a random number between 0 and 1 using the function numpy.random.random(1)<br>\n",
    "b. You can scale this random number to go from 0 to 10 by multiplying it by 10<br>\n",
    "c. At this point what you have is a random floating-point number that goes from 0 to 10. You need to convert this floating-point number to an integer using the int() function."
   ]
  },
  {
   "cell_type": "code",
   "execution_count": 3,
   "metadata": {},
   "outputs": [
    {
     "name": "stdout",
     "output_type": "stream",
     "text": [
      "The dog's age in human years is 41.0\n"
     ]
    }
   ],
   "source": [
    "import numpy as np\n",
    "import pandas as pd\n",
    "human_age=int(10*np.random.random(1))\n",
    "if human_age <=2:\n",
    "    dog_age1=(10.5*human_age)\n",
    "    print(\"The dog's age in human years is\", dog_age1) #dogs age before or equal to 2 years of age\n",
    "else:\n",
    "    dog_age2=((human_age*4)+(2*10.5)) #dogs age after 2 years of age\n",
    "    print(\"The dog's age in human years is\", dog_age2)"
   ]
  },
  {
   "cell_type": "markdown",
   "metadata": {},
   "source": [
    "3. For Students A through J, generate 10 different random numbers between 0 and 100. Create a dataframe to store the student names in the first column (called \"Name\"), and store the scores in the second column called \"Score\".\n",
    "   Print out the mean, standard deviation and maximum of the scores, as well as the index of the student with this maximum score. "
   ]
  },
  {
   "cell_type": "code",
   "execution_count": 5,
   "metadata": {},
   "outputs": [
    {
     "name": "stdout",
     "output_type": "stream",
     "text": [
      "Test score mean is Score    46.144487\n",
      "dtype: float64\n",
      "Test score standard deviation is Score    37.902133\n",
      "dtype: float64\n",
      "The tests maximum score is Score    98.864156\n",
      "dtype: float64\n",
      "Max Score index Score    G\n",
      "dtype: object\n"
     ]
    }
   ],
   "source": [
    "from numpy.random import randn\n",
    "Name='A B C D E F G H I J'\n",
    "myrand=(100*(np.random.random((10,1))))\n",
    "df=pd.DataFrame(myrand, index=Name.split(), columns='Score'.split()) #creation of table\n",
    "df=df.rename_axis('Students')\n",
    "print('Test score mean is', df.mean()) #Mean Score\n",
    "print('Test score standard deviation is', df.std()) #Standard Deviation\n",
    "print('The tests maximum score is', df.max()) #max score of the test\n",
    "print('Max Score index', df.idxmax()) #index max score"
   ]
  },
  {
   "cell_type": "markdown",
   "metadata": {},
   "source": [
    "4. Write a program that begins by reading a score in percentage (%) from the user. Then your program should compute and display the equivalent letter grade. Ensure that your program generates an appropriate error message if the user enters an invalid score.\n",
    "Use the grading scale on your syllabus. These scores are typed in below."
   ]
  },
  {
   "cell_type": "code",
   "execution_count": 7,
   "metadata": {},
   "outputs": [
    {
     "name": "stdout",
     "output_type": "stream",
     "text": [
      "Put in your percentage to see your letter grade80\n",
      "B-\n"
     ]
    }
   ],
   "source": [
    "letterGrade = ['A+','A','A-','B+','B','B-','C+','C','C-','D+','D','D-']\n",
    "scores = [97,93,90,87,83,80,77,73,70,67,63,60]\n",
    "# A score of less than 60 gets a letter grade of F\n",
    "\n",
    "Grade_Score=input(\"Put in your percentage to see your letter grade\") #score input\n",
    "G=int(Grade_Score)\n",
    "if G>100:\n",
    "    print(\"This score is impossible\") #impossible grades \n",
    "elif G<0:\n",
    "    print(\"This score is impossible\")\n",
    "elif G>=97:\n",
    "    print(\"A+\")\n",
    "elif G>=93:\n",
    "    print(\"A\")\n",
    "elif G>=90:\n",
    "    print(\"A-\")\n",
    "elif G>=87:\n",
    "    print(\"B+\")\n",
    "elif G>=83:\n",
    "    print(\"B\")\n",
    "elif G>=80:\n",
    "    print(\"B-\")\n",
    "elif G>=77:\n",
    "    print(\"C+\")\n",
    "elif G>=73:\n",
    "    print(\"C\")\n",
    "elif G>=70:\n",
    "    print(\"C-\")\n",
    "elif G>=67:\n",
    "    print(\"D+\")\n",
    "elif G>=63:\n",
    "    print(\"D\")\n",
    "elif G>=60:\n",
    "    print(\"D-\")\n",
    "elif G>=0:\n",
    "    print(\"F\")"
   ]
  },
  {
   "cell_type": "markdown",
   "metadata": {},
   "source": [
    "5. Write a program that generates 10 random integers, and then prints the largest odd number that was entered. If no odd number was entered it should print a message to that effect. <br>\n",
    "Hints: <br>\n",
    "    a. Use pseudo-code. <br>\n",
    "    b. Generate a random number using the code below:<br>\n",
    "    myRandInt = np.random.randint(low=1, high=20, size=10)<br>\n",
    "    c. Initialize an empty list to contain the odd numbers. Name this list oddInt <br>\n",
    "    d. Within your for loop, you can append odd numbers to this empty list using the append function. eg: <br>\n",
    "    oddInt.append(\"The current odd number from the list should be put in here!\")"
   ]
  },
  {
   "cell_type": "code",
   "execution_count": 9,
   "metadata": {},
   "outputs": [
    {
     "name": "stdout",
     "output_type": "stream",
     "text": [
      "[13]\n",
      "13\n",
      "[13, 3]\n",
      "13\n",
      "[13, 3, 13]\n",
      "13\n",
      "[13, 3, 13]\n",
      "13\n",
      "[13, 3, 13, 13]\n",
      "13\n",
      "[13, 3, 13, 13, 7]\n",
      "13\n",
      "[13, 3, 13, 13, 7]\n",
      "13\n",
      "[13, 3, 13, 13, 7]\n",
      "13\n",
      "[13, 3, 13, 13, 7, 11]\n",
      "13\n",
      "[13, 3, 13, 13, 7, 11, 13]\n",
      "13\n"
     ]
    }
   ],
   "source": [
    "import numpy as np\n",
    "myRandInt = np.random.randint(low=1, high=20, size=10)\n",
    "OddInt=[]\n",
    "for x in myRandInt:  #searches for odd values by division of two and remainders\n",
    "    if not (x % 2)==0:\n",
    "        OddInt.append(x) #adds in odd values to list\n",
    "    print(OddInt)\n",
    "    print(max(OddInt)) #largest odd integer\n",
    "if (OddInt) ==0:\n",
    "    print(\"Odd integer does not exist\")\n",
    "    "
   ]
  },
  {
   "cell_type": "code",
   "execution_count": null,
   "metadata": {},
   "outputs": [],
   "source": []
  }
 ],
 "metadata": {
  "colab": {
   "collapsed_sections": [
    "sYQs3O-6dHFb",
    "8sIJ4A57dHFk",
    "_73RPOcBdHFn",
    "h9s2tfPcdHFo",
    "zt4YHVYPdHGR"
   ],
   "include_colab_link": true,
   "name": "Copy of intro-python-colab.ipynb",
   "provenance": [],
   "version": "0.3.2"
  },
  "kernelspec": {
   "display_name": "Python 3",
   "language": "python",
   "name": "python3"
  },
  "language_info": {
   "codemirror_mode": {
    "name": "ipython",
    "version": 3
   },
   "file_extension": ".py",
   "mimetype": "text/x-python",
   "name": "python",
   "nbconvert_exporter": "python",
   "pygments_lexer": "ipython3",
   "version": "3.7.3"
  }
 },
 "nbformat": 4,
 "nbformat_minor": 1
}
